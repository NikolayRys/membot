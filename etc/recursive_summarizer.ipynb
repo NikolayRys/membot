{
 "cells": [
  {
   "cell_type": "code",
   "execution_count": 1,
   "outputs": [
    {
     "ename": "UnicodeDecodeError",
     "evalue": "'utf-8' codec can't decode byte 0xab in position 22: invalid start byte",
     "output_type": "error",
     "traceback": [
      "\u001B[0;31m---------------------------------------------------------------------------\u001B[0m",
      "\u001B[0;31mUnicodeDecodeError\u001B[0m                        Traceback (most recent call last)",
      "Cell \u001B[0;32mIn[1], line 2\u001B[0m\n\u001B[1;32m      1\u001B[0m \u001B[38;5;28;01mwith\u001B[39;00m \u001B[38;5;28mopen\u001B[39m(\u001B[38;5;124m\"\u001B[39m\u001B[38;5;124mtxts/caravan.txt\u001B[39m\u001B[38;5;124m\"\u001B[39m, \u001B[38;5;124m\"\u001B[39m\u001B[38;5;124mr\u001B[39m\u001B[38;5;124m\"\u001B[39m) \u001B[38;5;28;01mas\u001B[39;00m f:\n\u001B[0;32m----> 2\u001B[0m     text \u001B[38;5;241m=\u001B[39m \u001B[43mf\u001B[49m\u001B[38;5;241;43m.\u001B[39;49m\u001B[43mread\u001B[49m\u001B[43m(\u001B[49m\u001B[43m)\u001B[49m\n\u001B[1;32m      4\u001B[0m \u001B[38;5;66;03m# Convert encoding from windows-1252 to utf-8\u001B[39;00m\n\u001B[1;32m      5\u001B[0m text \u001B[38;5;241m=\u001B[39m text\u001B[38;5;241m.\u001B[39mencode(\u001B[38;5;124m'\u001B[39m\u001B[38;5;124mwindows-1252\u001B[39m\u001B[38;5;124m'\u001B[39m)\u001B[38;5;241m.\u001B[39mdecode(\u001B[38;5;124m'\u001B[39m\u001B[38;5;124mutf-8\u001B[39m\u001B[38;5;124m'\u001B[39m)\n",
      "File \u001B[0;32m~/miniconda3/lib/python3.10/codecs.py:322\u001B[0m, in \u001B[0;36mBufferedIncrementalDecoder.decode\u001B[0;34m(self, input, final)\u001B[0m\n\u001B[1;32m    319\u001B[0m \u001B[38;5;28;01mdef\u001B[39;00m \u001B[38;5;21mdecode\u001B[39m(\u001B[38;5;28mself\u001B[39m, \u001B[38;5;28minput\u001B[39m, final\u001B[38;5;241m=\u001B[39m\u001B[38;5;28;01mFalse\u001B[39;00m):\n\u001B[1;32m    320\u001B[0m     \u001B[38;5;66;03m# decode input (taking the buffer into account)\u001B[39;00m\n\u001B[1;32m    321\u001B[0m     data \u001B[38;5;241m=\u001B[39m \u001B[38;5;28mself\u001B[39m\u001B[38;5;241m.\u001B[39mbuffer \u001B[38;5;241m+\u001B[39m \u001B[38;5;28minput\u001B[39m\n\u001B[0;32m--> 322\u001B[0m     (result, consumed) \u001B[38;5;241m=\u001B[39m \u001B[38;5;28;43mself\u001B[39;49m\u001B[38;5;241;43m.\u001B[39;49m\u001B[43m_buffer_decode\u001B[49m\u001B[43m(\u001B[49m\u001B[43mdata\u001B[49m\u001B[43m,\u001B[49m\u001B[43m \u001B[49m\u001B[38;5;28;43mself\u001B[39;49m\u001B[38;5;241;43m.\u001B[39;49m\u001B[43merrors\u001B[49m\u001B[43m,\u001B[49m\u001B[43m \u001B[49m\u001B[43mfinal\u001B[49m\u001B[43m)\u001B[49m\n\u001B[1;32m    323\u001B[0m     \u001B[38;5;66;03m# keep undecoded input until the next call\u001B[39;00m\n\u001B[1;32m    324\u001B[0m     \u001B[38;5;28mself\u001B[39m\u001B[38;5;241m.\u001B[39mbuffer \u001B[38;5;241m=\u001B[39m data[consumed:]\n",
      "\u001B[0;31mUnicodeDecodeError\u001B[0m: 'utf-8' codec can't decode byte 0xab in position 22: invalid start byte"
     ]
    }
   ],
   "source": [
    "with open(\"txts/caravan.txt\", \"r\") as f:\n",
    "    text = f.read()\n",
    "\n",
    "# Convert encoding from windows-1252 to utf-8\n",
    "text = text.encode('windows-1252').decode('utf-8')\n",
    "print(text[:1000])"
   ],
   "metadata": {
    "collapsed": false
   }
  },
  {
   "cell_type": "code",
   "execution_count": 30,
   "outputs": [
    {
     "name": "stdout",
     "output_type": "stream",
     "text": [
      "31\n",
      "955\n"
     ]
    }
   ],
   "source": [
    "# awk '/^[0-9][0-9]:[0-9][0-9]:[0-9][0-9]\\.[0-9][0-9][0-9] --> /{getline; print}' surgery.vtt | sed 's/<[^>]*>//g' | uniq > surgery.txt\n",
    "\n",
    "from langchain.text_splitter import TokenTextSplitter\n",
    "\n",
    "with open(\"surgery.txt\", \"r\") as f:\n",
    "    text = f.read()\n",
    "\n",
    "# Change \\n to spaces\n",
    "text = text.replace(\"\\n\", \" \")\n",
    "\n",
    "text_splitter = TokenTextSplitter(chunk_size=1000, chunk_overlap=0)\n",
    "\n",
    "texts = text_splitter.split_text(text)\n",
    "\n",
    "print(len(texts))\n",
    "print(len(texts[0]))"
   ],
   "metadata": {
    "collapsed": false
   }
  },
  {
   "cell_type": "code",
   "execution_count": 37,
   "outputs": [],
   "source": [
    "import langchain\n",
    "from langchain.llms import OpenAI\n",
    "from langchain import PromptTemplate\n",
    "\n",
    "OPENAI_API_KEY = \"sk-xxx\"\n",
    "llm = OpenAI(model_name='text-davinci-003', openai_api_key=OPENAI_API_KEY, max_tokens=1200, model_kwargs={'temperature': 0.3})\n",
    "\n",
    "name = \"Полевая хирургия\"\n",
    "\n",
    "first_template_str = '''\n",
    "Summarize the text below which is a beginning of subtitles for a youtube video called \"{name}\".\n",
    "Pay attention and extract only to medical or historical information, ignore everything else.\n",
    "IMPORTANT: Preserve maximum information and make the summary from 900 to 1000 words long.\n",
    "START\n",
    "{first}\n",
    "{second}\n",
    "END\n",
    "SUMMARY:\n",
    "'''\n",
    "\n",
    "# Create prompt template\n",
    "first_template = PromptTemplate(\n",
    "    template = first_template_str,\n",
    "    input_variables = [\"first\", \"second\", \"name\"],\n",
    ")\n",
    "\n",
    "rolling_template_str = '''\n",
    "This is rolling summarization task of subtitles for a youtube video called \"{name}. Analyze \"NEW CHUNK\" and incorporate the most important information from it with the \"PREVIOUS SUMMARY\" below, so we have a new summary.\n",
    "In the new chunk pay attention and extract only to medical or historical information, ignore everything else.\n",
    "IMPORTANT: Try preserving information but NEVER go above 970 words. Start removing information if necessary.\n",
    "PREVIOUS SUMMARY\n",
    "{summary}\n",
    "NEW CHUNK\n",
    "{chunk}\n",
    "END\n",
    "NEW SUMMARY:\n",
    "'''\n",
    "\n",
    "\n",
    "rolling_template = PromptTemplate(\n",
    "    template = rolling_template_str ,\n",
    "    input_variables = [\"summary\", \"chunk\", \"name\"],\n",
    ")\n"
   ],
   "metadata": {
    "collapsed": false,
    "ExecuteTime": {
     "start_time": "2023-04-17T15:51:07.700528Z",
     "end_time": "2023-04-17T15:51:07.705389Z"
    }
   }
  },
  {
   "cell_type": "code",
   "execution_count": 38,
   "outputs": [
    {
     "name": "stdout",
     "output_type": "stream",
     "text": [
      "2 139\n",
      "3 194\n",
      "4 226\n",
      "5 265\n",
      "6 323\n",
      "7 361\n",
      "8 312\n",
      "9 353\n",
      "10 380\n",
      "11 441\n",
      "12 528\n",
      "13 486\n",
      "14 538\n",
      "15 587\n",
      "16 675\n",
      "17 742\n",
      "18 767\n",
      "19 778\n",
      "20 791\n",
      "21 879\n",
      "22 988\n",
      "23 988\n",
      "24 978\n",
      "25 873\n",
      "26 939\n",
      "27 724\n",
      "28 788\n",
      "29 819\n",
      "30 760\n",
      "760\n",
      "Alexander Povolotsky, a military historian and reconstructor, is joined by Mikhail Timin on the Tactic Media channel to discuss field surgery. They refer to the Polish company Wehrmacht which had around 10-15 thousand killed and 30-35 thousand wounded. In April 1940, a conference was held to discuss the experience of field surgery, and Sergey Yudin made a valuable contribution with his book \"Notes on Military Field Surgery\" which was signed on April 15, 1941. This book provided an unbiased view of German military medicine, which was praised by an English journalist. German statistics were discussed, with Sergey Smirnov noting that they were able to hide anything they wanted. The Germans concluded that there was nothing extraordinary in their field surgery, and they used local anesthesia and antiseptic techniques. Deep wound injections were still a controversial topic and required permission. The Germans had statistics on 35,000 wounded, but it took at least 6 months to process them. The Soviets had similar operations to save limbs in cases of gangrene, but the effects could not be seen due to the lack of a control group and the lack of quality control of bacteriophages, vaccines, and serums. Quality control of medications was unreliable, with some tests being done on chickens, and some batches of medications being ineffective. Gangrene-related serums were also discussed. The Germans used prophylactic serum and had good results with evacuating wounded to 500 km away, with some being evacuated by air. In 1939, the US declared themselves a first-rate power, meaning they could no longer have a foreign war. They had a well-equipped divisional hospital and tried to apply their experience from peacetime, but this was not always successful. The US had plans and budgets in place to prepare for war, but in some states, petitions were signed to prevent the construction of military hospitals. When building military hospitals, some issues were encountered such as insufficient operating rooms, dressing rooms, pharmacies, and X-ray and physiotherapy rooms. Knowing about the Soviet National Blood Service, the Americans said \"Wow, we can do better now\" and they did in some aspects. They mainly used whole blood transfusions, while the Germans, being ill-equipped, used the first synthetic colloidal blood substitute, Periston. Crystalloids and colloids were discussed as blood substitutes, with the latter being cheaper and having instructions on how to prepare them in a laboratory. The US also faced a shortage of building materials, leading to the use of raw wood and poor insulation. Poor construction led to issues such as uneven floors, sagging walls, and poor wall insulation. To improve conditions, the US had to make changes to the electrical system, install air conditioners, and insulate the walls. Despite their preparations, the US was unable to reach 100% capacity in their stationary hospitals before the war. The US was aware of the situation in Europe and sent a Red Cross hospital to France to gain experience before the war. In medical situations such as shock, especially in cases of burns, the permeability of the vascular wall increases, leading to the leakage of fluids into the tissues. To prevent this, colloid solutions such as kasein can be used, as well as crystalloids in cases of non-shock blood loss or short evacuation times. The Germans received an order to quickly evacuate their heavy equipment from Poland and their hospitals were sent to the front without generators and X-ray machines. The Germans had a dismissive attitude towards the Soviet Union in many aspects, including aviation and medicine. The US created a National Blood Service and developed a dry plasma, which was easier to transport, and used colloids and gelatin, both of which were toxic to the liver. The French documented the types of wounds and used sulfonamides, which were adopted by the Soviets. The US switched from 250 ml to 500 ml capacity for economic reasons, as rubber was scarce. The Battle of Britain had an average daily loss of four aircraft from both sides. In extreme cases, doctors had the right to try anything if a person was doomed, and skin transplantation was already well-known, but mainly for cosmetic purposes. Blood compatibility tests were conducted, and colloids were used to reduce the area of skin trauma. The English attempted to transplant skin from one dog to another, but the skin would not take, and the animal died from intoxication. Alexander Povolotsky and Mikhail Timin will be hosting a forum dedicated to the Red Army's great victories, the Operation Ring of Annihilation of the Nazi fascist grouping, at the DK ZIL on March 4th and 5th.\n"
     ]
    }
   ],
   "source": [
    "summary = llm(first_template.format(first=texts[0], second=texts[1], name=name))\n",
    "for i in range(2, len(texts)):\n",
    "    summary = llm(rolling_template.format(summary=summary, chunk=texts[i], name=name))\n",
    "    print(i, len(summary.split()))\n",
    "\n",
    "print(len(summary.split()))\n",
    "print(summary)"
   ],
   "metadata": {
    "collapsed": false,
    "ExecuteTime": {
     "start_time": "2023-04-17T15:51:09.666613Z",
     "end_time": "2023-04-17T16:03:01.172383Z"
    }
   }
  },
  {
   "cell_type": "code",
   "execution_count": 39,
   "outputs": [
    {
     "name": "stdout",
     "output_type": "stream",
     "text": [
      "760\n",
      "Alexander Povolotsky, a military historian and reconstructor, and Mikhail Timin, joined forces on the Tactic Media channel to discuss field surgery. They referred to the Polish company Wehrmacht, which had around 10-15 thousand killed and 30-35 thousand wounded. In April 1940, a conference was held to discuss the experience of field surgery, and Sergey Yudin made a valuable contribution with his book \"Notes on Military Field Surgery\", which was signed on April 15, 1941. This book provided an unbiased view of German military medicine, which was praised by an English journalist. German statistics were discussed, with Sergey Smirnov noting that they were able to hide anything they wanted. The Germans concluded that there was nothing extraordinary in their field surgery, and they used local anesthesia and antiseptic techniques. Deep wound injections were still a controversial topic and required permission. The Germans had statistics on 35,000 wounded, but it took at least 6 months to process them. The Soviets had similar operations to save limbs in cases of gangrene, but the effects could not be seen due to the lack of a control group and the lack of quality control of bacteriophages, vaccines, and serums. Quality control of medications was unreliable, with some tests being done on chickens, and some batches of medications being ineffective. Gangrene-related serums were also discussed. The Germans used prophylactic serum and had good results with evacuating wounded to 500 km away, with some being evacuated by air. \n",
      "\n",
      "In 1939, the US declared themselves a first-rate power, meaning they could no longer have a foreign war. They had a well-equipped divisional hospital and tried to apply their experience from peacetime, but this was not always successful. The US had plans and budgets in place to prepare for war, but in some states, petitions were signed to prevent the construction of military hospitals. When building military hospitals, some issues were encountered such as insufficient operating rooms, dressing rooms, pharmacies, and X-ray and physiotherapy rooms. Knowing about the Soviet National Blood Service, the Americans said \"Wow, we can do better now\" and they did in some aspects. They mainly used whole blood transfusions, while the Germans, being ill-equipped, used the first synthetic colloidal blood substitute, Periston. Crystalloids and colloids were discussed as blood substitutes, with the latter being cheaper and having instructions on how to prepare them in a laboratory. The US also faced a shortage of building materials, leading to the use of raw wood and poor insulation. Poor construction led to issues such as uneven floors, sagging walls, and poor wall insulation. To improve conditions, the US had to make changes to the electrical system, install air conditioners, and insulate the walls. Despite their preparations, the US was unable to reach 100% capacity in their stationary hospitals before the war. The US was aware of the situation in Europe and sent a Red Cross hospital to France to gain experience before the war. \n",
      "\n",
      "In medical situations such as shock, especially in cases of burns, the permeability of the vascular wall increases, leading to the leakage of fluids into the tissues. To prevent this, colloid solutions such as kasein can be used, as well as crystalloids in cases of non-shock blood loss or short evacuation times. The Germans received an order to quickly evacuate their heavy equipment from Poland and their hospitals were sent to the front without generators and X-ray machines. The Germans had a dismissive attitude towards the Soviet Union in many aspects, including aviation and medicine. The US created a National Blood Service and developed a dry plasma, which was easier to transport, and used colloids and gelatin, both of which were toxic to the liver. The French documented the types of wounds and used sulfonamides, which were adopted by the Soviets. The US switched from 250 ml to 500 ml capacity for economic reasons, as rubber was scarce. The Battle of Britain had an average daily loss of four aircraft from both sides. In extreme cases, doctors had the right to try anything if a person was doomed, and skin transplantation was already well-known, but mainly for cosmetic purposes. Blood compatibility tests were conducted, and colloids were used to reduce the area of skin trauma. The English attempted to transplant skin from one dog to another, but the skin would not take, and the animal died from intoxication. \n",
      "\n",
      "Alexander Povolotsky and Mikhail Timin will be hosting a forum dedicated to the Red Army's great victories, the Operation Ring of Annihilation of the Nazi fascist grouping, at the DK ZIL on March 4th and 5th.\n"
     ]
    }
   ],
   "source": [
    "refine_template_str = '''\n",
    "Rewrite the text below to make it more fluent and coherent, but retain the meaning.\n",
    "TEXT\n",
    "{summary}\n",
    "NEW REFINED TEXT:\n",
    "'''\n",
    "\n",
    "refine_template = PromptTemplate(\n",
    "    template = refine_template_str ,\n",
    "    input_variables = [\"summary\"],\n",
    ")\n",
    "\n",
    "refined_summary = llm(refine_template.format(summary=summary))\n",
    "print(len(refined_summary.split()))\n",
    "print(refined_summary)"
   ],
   "metadata": {
    "collapsed": false,
    "ExecuteTime": {
     "start_time": "2023-04-17T16:36:09.656182Z",
     "end_time": "2023-04-17T16:36:43.389100Z"
    }
   }
  },
  {
   "cell_type": "code",
   "execution_count": 40,
   "outputs": [
    {
     "name": "stdout",
     "output_type": "stream",
     "text": [
      "42\n",
      "66\n",
      "75\n",
      "59\n",
      "38\n",
      "85\n",
      "36\n",
      "52\n",
      "27\n",
      "141\n",
      "53\n",
      "65\n",
      "34\n",
      "18\n",
      "45\n",
      "48\n",
      "53\n",
      "21\n",
      "88\n",
      "12\n",
      "82\n",
      "87\n",
      "63\n",
      "79\n",
      "87\n",
      "43\n",
      "47\n",
      "19\n",
      "39\n",
      "97\n",
      "34\n",
      "1735\n",
      "* \"Ну понятно что польская компания Вермахта ее называли немножко бровивые\": Joke about the name of the Polish company.\n",
      "* \"Потому что единственный американский солдат заболевший полиомиелитом умер весь понятно да\": Joke about the 100% mortality rate of American soldiers with polio.\n",
      "* The Germans held a conference in March 1940 to discuss military medicine, and Sergei Sergeevich Yudin gave everyone a priceless gift - a book of notes on military-field surgery, signed on April 15, 1941. \n",
      "* A British journalist was so impressed by the German military medicine that he didn't seem to mind that his breakdown of the results of German doctors' work was completely non-politicized.\n",
      "* German statistics are made up of many numbers and graphs that are impossible to understand, so they are great for hiding anything.\n",
      "* The Germans didn't say anything extraordinary after the results, which surprised the speaker.\n",
      "* Chloroform was used and there were no deaths, which pleased the speaker.\n",
      "* Deep antiseptic was still being discussed in peacetime.\n",
      "* Injections into the depth of the wound still required permission, which the speaker found strange.\n",
      "* \"Even if they throw everything into mode to process the statistics, it still takes at least half a year.\"\n",
      "* \"To notice the effect, one needs a control group - poetically speaking.\"\n",
      "* \"The problem of the medicine of that time, especially of all kinds of bacteriophages, vaccines and serums, was very problematic - the control of quality.\"\n",
      "* Testing the quality of medication by counting chickens is an unconventional method. \n",
      "* A hospital received two batches of medication, one of which worked perfectly while the other didn't work for a whole month until something changed.\n",
      "* Poliakovs had a good time until the vaccines and serums ran out, so they became \"spironitams\" - a play on the word \"sporonitam\" (spironolactone). \n",
      "* The Germans were trying to evacuate very deep, but the depth of the front line was only 500 kilometers - a joke about how deep 500 kilometers is. \n",
      "* A joke about how it took 20 hours to transport a wounded person in the belly and 2500 wounded people were evacuated by air in the same amount of time.\n",
      "* They tried to do a \"secondary treatment\" of the wound, which was more of a mention than an actual treatment.\n",
      "* They tried to do a \"national blood service\" which was impossible and never happened.\n",
      "* The US is neutral and has a mainstream political doctrine of isolationism, but they still sell weapons to Europeans to fight each other. \n",
      "* The US has gone beyond being a regional power and no longer has foreign wars, but they still don't talk about the politics that broke the isolationists.\n",
      "* \"This must be a cartoon\" [music]\n",
      "* \"In some US states, people were collecting signatures for petitions demanding not to build a hospital in our state\"\n",
      "* \"Why is it hard to say 'real estate gets cheaper and building materials get more expensive'? We don't want that, so let our brave wounded heal with lots of money, we don't have that.\"\n",
      "* \"Agreed, that's more profitable. Yes, very. They had problems in this regard. But because the land was bought, it's clear that only respectable people who could [music] deal with projects and construction of hospital-type one-story buildings, does that ring a bell?\"\n",
      "* \"Yes, as they said about it. Yes, moreover, because in the hospital it was built according to the initial project, it was found that the operating rooms were insufficient, the dressing rooms were sufficient, the space for the pharmacy was insufficient, the space for the X-ray, physiotherapy, laboratories were absent, I have the feeling that someone just stole Grandpa's book and ordered it.\"\n",
      "* \"Я здесь уже все готово\" - a joke about being prepared.\n",
      "* \"Никуда не денутся\" - a joke about being stuck in a situation.\n",
      "* \"Алюминиевая лестница за 12000 долларов\" - a joke about expensive items.\n",
      "* \"В общем эти здания строились из непросушенной древесины\" - a joke about poor quality construction.\n",
      "* \"Give us a hundred years of war, but no battles - that would be great!\" \n",
      "* \"American hospitals didn't even reach 100% load during the war, even though they had built enough of them and brought them up to a human level before the war.\" \n",
      "* \"The Americans sent their Red Cross to France to gain experience, before they had to gain experience here.\"\n",
      "* Americans seeing the Soviet National Blood Service said \"Wow, we can do it better\" and they did, using whole blood instead of the first synthetic colloidal blood substitute, Periston, used by the Germans.\n",
      "* Taking salt from a store and preparing a sterile solution for a king is a difficult task.\n",
      "* We can make everything cheap with \"staloidami\" - a play on the word \"steroid\", suggesting that we can make anything better with steroids.\n",
      "* We can use \"kazein\" (casein) to wash away antigens - suggesting that we can wash away our problems with milk.\n",
      "* 44 Americans trying to come up with a solution to the problem is a funny idea.\n",
      "* The idea of creating a national blood service and making dry plasma is a funny concept.\n",
      "* The idea of making distilled water on the spot is a funny concept.\n",
      "* Americans switched from 250 mm to 500 ml capacity to save rubber, as the only limitation in the US during the war was the lack of rubber.\n",
      "* If a guy clicked a Zippo lighter, it meant he was either on the front or serving on the warehouse - a valuable equivalent.\n",
      "* Replacing the name of a French town with the name of a tank model is \"in principle normal\" for 1941.\n",
      "* \"After the book was signed to print, I received from Paris a whole set of ballots from May 1, 1940 to February 19, 1941 - with amazement I saw that during this time the scientific sessions of the academy did not stop, as usual.\" - Sergey Sergeevich, probably not the most exciting joke.\n",
      "* \"The last sheet was made two days before de Martel's suicide theory - he made his last report on the treatment of brain diseases.\" - Probably not the funniest way to go out.\n",
      "* \"They apologized for not being able to provide data, data, data.\"\n",
      "* The laboratory burned down on the fifth day of work, but they managed to try something first in the world - mass application of sulfonamides on fresh and not so fresh wounds. \n",
      "* Despite the horror of looking at the wounded, the widespread use of sulfonamide allowed to save a large part of the limbs. \n",
      "* The reports of their light surgical ambulance apparently very quickly, at least on the front that I know, advanced stages of evacuation began to pour.\n",
      "* Evacuation took more than four hours - a clear indication of evacuation problems.\n",
      "* Civilian doctors with little to no surgical experience were in charge - a humorous situation.\n",
      "* A doctor from a small town was able to open a furuncle, but had to send the rest to a bigger hospital - a funny situation.\n",
      "* The French received data on sulfanilamides and documented them - a humorous situation.\n",
      "* Sergei Sergeevich Yudin caught the falling earth in the last second - a funny situation.\n",
      "* One joke is that the speaker has the moral right to not only quote others but also to share his own ideas, even though they may not be the best.\n",
      "* Another joke is that the speaker does some math to calculate the average daily losses in the Battle of Britain, but it is not clear if he got the answer right.\n",
      "* At least they pretended to shoot at them.\n",
      "* The English used destroyers to search for downed pilots.\n",
      "* The Germans were known for their \"La-Mansh\" damaged planes.\n",
      "* The final part of the Battle of Britain was the \"tourist guide\" bombing raids.\n",
      "* Piragov was a \"promising doctor\" who walked under the table.\n",
      "* The English re-discovered the syndrome of long-term compression and what to do if someone was stuck under rubble for more than an hour.\n",
      "* Applying a tourniquet to a person who has been under rubble for 4-5 hours is more humane than shooting them, as there were still flying gas mains.\n",
      "* The reason why the Fau-2 was called \"flying gas mains\" is because of the sudden, unexpected explosion with a lot of contused and scorched people, as well as the fire and air alarms caused by the Fau-2.\n",
      "* The reason why the air alarm was not announced 10 minutes before the attack is because the meaning flew by.\n",
      "* When people were panicking about the number of people who would drown, the music made it clear that the doctor had the right to try anything to save the patient, even if it only had a 1 in 100 chance of success.\n",
      "* King's failed attempts to transplant dog's legs were finally explained by the fact that there was a factor preventing skin transplantation.\n",
      "* English people tried to do something but failed, so they joked that at least they had enough to fill a tent for the runners.\n",
      "* Germans don't have a \"dolbanuty\" perfectionist attitude, instead they have \"done well\", \"tolerably\", \"mediocrely\", \"perfectly\", and \"not perfectly\".\n",
      "* God knows how many milliliters were in the container - 19 or 190?\n",
      "* The plan of Barbarossa was built on the assumption that the enemy would be scared and surrender - but the Russians had other plans.\n",
      "* \"We are looking at what is happening retrospectively and we see that it always wants to see an enemy in the enemy, on the maneuvers in Tsarskoye Selo, such as standing targets.\" \n",
      "* \"We thank those of you who support us on the sponsor platform, it is now most convenient for us.\" \n",
      "* \"Let's call everyone on March 4th and 5th to the DK ZIL, where the forum of the Channel Tactics Media will be devoted to the great victories of the Red Army - the Operation Ring of the Destruction of the German Fascist Group.\"\n",
      "* Alexander will be very excited to come to the Leningrad Blockade breakthrough celebration.\n",
      "* I have weekly streams on topics related to military surgery, but they don't fit the format of our conversation.\n"
     ]
    }
   ],
   "source": [
    "jokes_template_str = '''\n",
    "Find and extract jokes from the text below. For each joke write a one sentence summary. Format it as list with each line starting with an asterisk.\n",
    "START\n",
    "{text}\n",
    "END\n",
    "Jokes:\n",
    "'''\n",
    "\n",
    "jokes_template = PromptTemplate(\n",
    "    template = jokes_template_str,\n",
    "    input_variables = [\"text\"],\n",
    ")\n",
    "\n",
    "summaries = []\n",
    "for text in texts:\n",
    "    chunk_jokes = llm(jokes_template.format(text=text))\n",
    "    print(len(chunk_jokes.split()))\n",
    "    summaries.append(chunk_jokes)\n",
    "\n",
    "all_jokes = \"\\n\".join(summaries)\n",
    "print(len(all_jokes.split()))\n",
    "print(all_jokes)"
   ],
   "metadata": {
    "collapsed": false,
    "ExecuteTime": {
     "start_time": "2023-04-17T16:49:29.680981Z",
     "end_time": "2023-04-17T16:51:11.964811Z"
    }
   }
  },
  {
   "cell_type": "code",
   "execution_count": 5,
   "outputs": [
    {
     "name": "stdout",
     "output_type": "stream",
     "text": [
      "2522\n",
      "\n",
      "Alexander Povolotsky, a military historian and re-enactor, is the guest on the Tactica Media channel. The topic of the day is a Polish company called Vermaht, which was nicknamed “the unshaven ones” due to their combat uniforms. It resulted in 10-15 thousand killed and 30-35 thousand wounded. This experience is ideal for military medicine, as it has great statistics. \n",
      "\n",
      "In April 1940, the Germans held a conference, where Sergey Yudin presented an invaluable gift - a book called “Notes on Military Field Surgery”, signed on April 15, 1941. It contained a lot of non-politicised information about the German military medicine and was very appreciated by an English journalist, who admired the German military medicine in particular. \n",
      "\n",
      "The Germans concluded that the primary surgical treatment was forbidden and deep antisepsis was required. They also used local anaesthetics, as those familiar with it in peace time. \n",
      "\n",
      "Overall, the Germans concluded nothing extraordinary, but the book was a great source of knowledge about the German military medicine and its statistical data, which was highly appreciated by Sergey Smirnov, a Russian doctor.\n",
      "\n",
      "The text above is a part of subtitles for a Youtube video called “Полевая хирургия”. It talks about the medical operations and gangrene statistics of the Soviet Union in March 1940, and the difficulties that medical personnel faced when trying to treat the wounded. \n",
      "\n",
      "At the time, doctors had to use primitive methods to measure the quality of medical treatments such as vaccines and serums. For example, they used a chicken to measure the dosage of a drug. Furthermore, the quality of the medical treatments varied greatly depending on the batch. For example, one batch could work perfectly, while another batch could have no effect at all. \n",
      "\n",
      "The Germans also had difficulty in trying to evacuate the wounded. They tried to evacuate them 500 kilometres away, but it was very difficult due to the size of the area. This resulted in long trips to hospitals, with some wounded having to travel for 20 hours just to get there. Despite the struggles, the Soviets and Germans were still able to treat roughly 2500 wounded.\n",
      "\n",
      "In 1939, as the war started, France and other European countries were not prepared for the military operations, while the United States was still in the process of reforming its military. During this time, the US was still a regional power and was not involved in the war. However, American politicians started to prepare for war by developing plans, assigning personnel, and creating budgets for the war effort.\n",
      "\n",
      "In the field of medicine, the Germans had a well-developed medical system, with many transportation options. They were able to evacuate about 2500 wounded people in 20 hours. They also tried a secondary treatment for wounds that were already infected, but this was not very successful. The Germans also had a blood donation service, but it was only available in the rear, so it was difficult to get blood on the front lines.\n",
      "\n",
      "The US medical system was not as well developed. They had no national blood donation service and they could not provide sufficient medical services in time of war. However, the US military was already in the process of reforming its divisions into the National Guard and the Folsom Turbine. This meant that they had a plan and personnel and budget ready in case of war.\n",
      "\n",
      "Overall, while the US was not yet ready for war, they were already in the process of preparing for it. They had a plan, personnel, and budget ready and were in the process of reforming their military. Meanwhile, the Germans had a well-developed medical system, but were not able to provide sufficient medical services on the front lines.\n",
      "\n",
      "The text above is a part of the subtitles for a youtube video called \"Полевая хирургия\". It tells the story of a war in the US where people refused to give up their land to build a hospital. People organized a petition to prevent construction of the hospital, and because of this, the real estate prices went down. The buildings were constructed from raw boards, and their size was insufficient for the needs of medical personnel. There were not enough rooms for renting, pharmacies and laboratories, as well as for radiography and physiotherapy. It was found out that these buildings were built with a deficiency of materials in the USA, so the boards were purchased raw. The floors and walls were not suitable for use. There was insufficient space in the operating rooms, and it was too hot there. It was necessary to strengthen the wiring in the wards and to install air conditioners. All this had to be done from scratch, as the buildings did not meet the requirements for a hospital. The US was able to prepare sufficient number of stationary hospitals for the war, but these hospitals were not at 100 percent utilization.\n",
      "\n",
      "At the beginning of WWII, the Americans were closely monitoring what was happening in Europe and even had a mention of an American hospital in France. Knowing about the Soviet National Blood Service, the Americans decided to do better. \n",
      "\n",
      "The Americans opted to use whole blood, while the Germans, who were ill on top of everything else, used the first synthetic colloidal blood substitute, Periston. The Americans also had instructions on how to take a grocery store salt and turn it into a sterile physiologist solution. \n",
      "\n",
      "In addition, the Americans had a more advanced small-scale pharmaceutical production, including instructions on how to titrate and prepare a royal fluid for use by the King. \n",
      "\n",
      "The main advantage of using colloids was that they were cheap, like salt from a grocery store, and included instructions on how to properly prepare it for medical use. However, one of the disadvantages of using colloids with shock, especially with burns, is that the vascular wall permeability increases, resulting in a decrease in the tone of the vessels and the fluid seeping into the tissue. This can cause a pulmonary edema if too much fluid is infused repeatedly.\n",
      "\n",
      "The text between START and END is a part of subtitles for a youtube video called \"Полевая хирургия\" which talks about the use of fluids for resuscitation and blood transfusions during a war. It is mentioned that fluids like Physostigmine can be used to treat shock, but it is not cost-effective and can be toxic to the liver. To solve this problem, national blood services began to produce dry plasma, which is easier to transport and does not have any antigenic issues. It was also more economical to produce and the U.S. switched from 250 ml to 500 ml capacity to save rubber, which was in short supply during the war.\n",
      "\n",
      "The French also contributed to the advancement of field surgery during the war. They performed very well and some of their techniques were adopted by the U.S. For example, they used a one-man car for three months and thus, saved on the use of tires, which was a valuable resource during the war. Overall, it can be said that the information in the subtitles is a testament to the contributions made by both the U.S. and France to the advancement of field surgery during the war.\n",
      "\n",
      "The video \"Полевая хирургия\" highlights the heroic efforts of French medical personnel in the face of extreme adversity during World War II. It begins by referencing a battle in which the French had no anti-tank weapons and were quickly overwhelmed by the German forces. In spite of this, the French managed to take 600,000 prisoners in what is now known as the Kiev encirclement – the second largest operation of its kind in history.\n",
      "\n",
      "The video then moves on to discuss the incredible work of the French medical personnel. Despite the difficult conditions, they worked tirelessly to treat the wounded. At one point, they were even forced to evacuate their labs and were unable to provide the necessary data for their research. However, the French medical personnel persevered and, to this day, are remembered for their selfless dedication and bravery.\n",
      "\n",
      "Their work was unprecedented and included the mass use of sulfonamides on both fresh and non-fresh wounds. This was a revolutionary development in the field of medicine and one which has been widely used since. As a result of their efforts, French medical personnel are now regarded as one of the most heroic teams of the war and have been remembered in books and films.\n",
      "\n",
      "In conclusion, the video \"Полевая хирургия\" is a tribute to the incredible work of French medical personnel during World War II. Despite the extreme adversity, they worked tirelessly to provide medical care for the wounded. Their groundbreaking research into sulfonamides has since been widely used and has saved countless lives. As a result, their bravery and dedication will never be forgotten.\n",
      "\n",
      "In the early days of World War I, the French medical system experienced a drastic change. Before the war, most medical services were provided by civilian doctors with limited surgical experience. During the war, a system of mobile hospitals was created to provide care for wounded soldiers. The soldiers were treated according to the severity of their wounds, with the most severe cases requiring amputation.\n",
      "\n",
      "The French began to use a new type of treatment on the wounded, known as sulfonamides. This treatment was used to treat both fresh and long-term wounds, and it had a remarkable effect on the survival rate of many of the wounded. In addition to the treatment, the French also developed a system of Red Cross trains to evacuate the wounded as quickly as possible. \n",
      "\n",
      "Sergei Sergievich Yudin, a 25-year veteran of surgery, was one of the first to apply the new treatment. His experience in treating casualties during the war allowed him to quickly identify the type and severity of the wounds, and to develop a plan of treatment using the sulfonamides. Yudin was also able to identify the problems with the evacuation of the wounded, which included a lack of shock treatment, a lack of surgeons with experience in amputation, and a lack of medical staff in remote areas. \n",
      "\n",
      "The Battle of Britain was also a turning point in the use of sulfonamides. During the battle, the Germans used hydroplanes with red crosses to evacuate their downed pilots, and the British did not normally fire upon them. This allowed the Germans to evacuate their wounded quickly, and the average daily losses of their air force were only around four. \n",
      "\n",
      "Thanks to the application of sulfonamides, the medical system in France experienced a dramatic improvement. The use of sulfonamides, combined with the evacuation of the wounded, allowed for a much higher survival rate among the wounded. Yudin's experience during the war, along with his practical suggestions, allowed for the successful implementation of the new system.\n",
      "\n",
      "At the beginning of World War II, the British had to develop new methods for rescuing people trapped under rubble. Their search for pilots was carried out by using destroyers and destroyers. In 1839, Dr. Piragov suggested a new syndrome of long-term compression and how to deal with it. If a person is trapped under debris for more than 4-5 hours, a tourniquet should be applied before extraction. Otherwise, it is more humane to shoot them. \n",
      "\n",
      "The German Fu-2 was known as the Flying Gas Main, and an accident on a gas main could cause a sudden, powerful explosion with a large number of charred and burned victims. To prevent panic, the British did not announce air raids until 10 minutes before the attack. \n",
      "\n",
      "In extreme cases, doctors have the right and obligation to try anything to save a person. Skin transplantation was already known but it was mainly used for cosmetic purposes. In WW2, they tried to transplant skin from donors, but it did not take. So, they started to check blood compatibility. In this way, they managed to save many lives.\n",
      "\n",
      "In June of 1941, the German army went on the offensive against the Soviet Union. However, the Germans had only a fraction of the equipment they would normally have had, such as generators and X-ray machines, due to their commitment to rapid mobilization. This was reflected in the medical sphere as well, as the Germans did not have the same perfectionist attitude that they had in other areas. Instead, they viewed their medical supplies as either full or not full, with no middle ground.\n",
      "\n",
      "The plan was to scare the Soviets into submission and not expect resistance. However, the Russians had already begun to arm themselves, and the Germans did not expect them to be as well prepared as they were. The Germans also did not expect the Russians to resist so fiercely, leading to heavy losses for the German army.\n",
      "\n",
      "This was the beginning of a new science, transplantology. It was the first time that a successful transplant had been attempted, as King Charles had attempted to amputate a dog's paw and then reattach it, only for it to fail. This led to the discovery of an incompatibility factor that prevented successful transplantation. \n",
      "\n",
      "The English were the first to take the plunge and attempt transplants, but they were unsuccessful. It wasn't until the Germans started experimenting in June of 1941 that transplantology finally began to take shape. The Germans had to leave their heavy medical equipment behind in Poland and instead take only the bare minimum. This, combined with the fact that not enough donor organs were available, led to the Germans having to resort to improvisation.\n",
      "\n",
      "They used what they had to create a makeshift operating room and began to experiment. They quickly discovered that there was a compatibility factor involved in successful transplants, and this led to the start of a new field of research. By the end of 1941, the Germans had become the leading force in the development of transplantology, and the science has been advancing ever since.\n",
      "\n",
      "The video is a conversation between two military historians discussing the Battle of Borodino in 1812, in which the Russian army faced the French. The historians discuss how the Russians played a game of cat and mouse with the French, who were trying to gain the upper hand with their superior tactics. They point out that the Russians were able to outmaneuver the French to gain a strategic advantage, leading to their eventual victory.\n",
      "\n",
      "The conversation then moves on to the Siege of Leningrad in 1941-1944, and the role that the Russian army played in breaking the German blockade. The historians discuss the operation of the \"Ring of Destruction\" and Operation Iskra, which were key in the Russian victory.\n",
      "\n",
      "The conversation then turns to the present day and discusses the upcoming \"Tactical Media Forum\", which will be held in Moscow on the 4th and 5th of March. The forum will be dedicated to great victories of the Red Army and will feature streams from the channel's host, Alexander, on various military topics. \n",
      "\n",
      "The historians then thank those who have supported them on their platform and invite everyone to come to the forum in Moscow. They also invite people to watch their weekly streams on topics related to military surgery.\n"
     ]
    }
   ],
   "source": [
    "# Concat all summaries with newlines\n",
    "summary = \"\\n\".join(summaries)\n",
    "print(len(summary.split()))\n"
   ],
   "metadata": {
    "collapsed": false,
    "ExecuteTime": {
     "start_time": "2023-04-17T13:01:47.904860Z",
     "end_time": "2023-04-17T13:01:47.907499Z"
    }
   }
  },
  {
   "cell_type": "code",
   "execution_count": 8,
   "outputs": [],
   "source": [
    "final_template_str = '''\n",
    "Summarize the text to become 3 times shorter but retain the meaning.\n",
    "\n",
    "START\n",
    "{text}\n",
    "END\n",
    "\n",
    "SUMMARY:\n",
    "'''\n",
    "\n",
    "final_template = PromptTemplate(\n",
    "    template = final_template_str,\n",
    "    input_variables = [\"text\"],\n",
    ")\n",
    "\n",
    "final_summary = llm(final_template.format(text=text))\n",
    "\n"
   ],
   "metadata": {
    "collapsed": false,
    "ExecuteTime": {
     "start_time": "2023-04-17T13:06:29.090235Z",
     "end_time": "2023-04-17T13:06:39.130404Z"
    }
   }
  },
  {
   "cell_type": "code",
   "execution_count": 36,
   "outputs": [],
   "source": [
    "import deepl\n",
    "DEEPL_KEY = 'xxx'\n",
    "\n",
    "# Translate text\n",
    "translator = deepl.Translator(DEEPL_KEY)\n",
    "result = translator.translate_text(summary, source_lang='EN', target_lang=\"RU\" , preserve_formatting=True)\n",
    "\n",
    "# Save translated text\n",
    "with open(\"surgery_ru.txt\", \"w\") as f:\n",
    "    f.write(result.text)"
   ],
   "metadata": {
    "collapsed": false,
    "ExecuteTime": {
     "start_time": "2023-04-17T15:33:41.971961Z",
     "end_time": "2023-04-17T15:33:43.445094Z"
    }
   }
  },
  {
   "cell_type": "code",
   "execution_count": null,
   "outputs": [],
   "source": [
    "# https://colab.research.google.com/drive/10-GNzDd8-gNKiBBoxRqpcNgGhUF168Pk#scrollTo=nq0vKGFeW1KD\n",
    "# https://gpt-index.readthedocs.io/en/latest/how_to/indices.html\n",
    "# https://gpt-index.readthedocs.io/en/latest/guides/primer/index_guide.html\n",
    "# Langchain agent: chat-conversational-react-description"
   ],
   "metadata": {
    "collapsed": false
   }
  }
 ],
 "metadata": {
  "kernelspec": {
   "display_name": "Python 3",
   "language": "python",
   "name": "python3"
  },
  "language_info": {
   "codemirror_mode": {
    "name": "ipython",
    "version": 2
   },
   "file_extension": ".py",
   "mimetype": "text/x-python",
   "name": "python",
   "nbconvert_exporter": "python",
   "pygments_lexer": "ipython2",
   "version": "2.7.6"
  }
 },
 "nbformat": 4,
 "nbformat_minor": 0
}
