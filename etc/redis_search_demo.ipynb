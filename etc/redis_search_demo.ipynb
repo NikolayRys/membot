{
 "cells": [
  {
   "cell_type": "code",
   "execution_count": 1,
   "id": "bf48a33e",
   "metadata": {},
   "outputs": [],
   "source": [
    "VERSION = 2"
   ]
  },
  {
   "cell_type": "code",
   "execution_count": 2,
   "id": "f5f64918",
   "metadata": {},
   "outputs": [],
   "source": [
    "import sys\n",
    "import os\n",
    "sys.path.insert(0, os.path.abspath('..'))\n",
    "from pathlib import Path\n",
    "import json\n",
    "import requests\n",
    "from redis.client import Redis\n",
    "from redis.commands.search.field import TextField, VectorField\n",
    "from redis.exceptions import ResponseError\n",
    "import numpy as np\n",
    "from redis.commands.search.query import Query\n",
    "from langchain.embeddings import OpenAIEmbeddings\n",
    "from langchain.llms import OpenAI\n",
    "from langchain.chat_models import ChatOpenAI\n",
    "from langchain.schema import (\n",
    "    AIMessage,\n",
    "    HumanMessage,\n",
    "    SystemMessage\n",
    ")\n",
    "from textwrap import dedent\n",
    "from typing import Generator, Tuple\n",
    "from IPython.display import display, HTML\n",
    "from embeddings import Embeddings\n",
    "from embedding_storage.redis_storage import RedisEmbeddingStorage"
   ]
  },
  {
   "cell_type": "code",
   "execution_count": 3,
   "id": "1816e5e6",
   "metadata": {},
   "outputs": [],
   "source": [
    "def display_fact(text):\n",
    "    display(HTML(f'<div style=\"background-color: #00ff00;\">FACT! <pre>{text}</pre></div>'))"
   ]
  },
  {
   "cell_type": "code",
   "execution_count": 4,
   "id": "46f1999e",
   "metadata": {},
   "outputs": [],
   "source": [
    "with open(Path().absolute() / '..' / 'dev-config.json', 'r') as f:\n",
    "    CONFIG = json.load(f)"
   ]
  },
  {
   "cell_type": "code",
   "execution_count": 5,
   "id": "6bdc9697",
   "metadata": {},
   "outputs": [],
   "source": [
    "class Chat:\n",
    "    MORE = 'MORE_INFO_NEEDED'\n",
    "    \n",
    "    def __init__(self, *, config, embeddings):\n",
    "        self._config = config\n",
    "        self._embeddings = embeddings\n",
    "        \n",
    "        self._chat0 = ChatOpenAI(model_name=\"gpt-3.5-turbo\", openai_api_key=config['openai_api_key'], max_tokens=1200, model_kwargs={'temperature': 0})\n",
    "        self._chat1 = ChatOpenAI(model_name=\"gpt-3.5-turbo\", openai_api_key=config['openai_api_key'], max_tokens=1200, model_kwargs={'temperature': 1.0})\n",
    "        self._system_prompt = dedent(\n",
    "            f\"\"\"\n",
    "            I am a helpful assistant with access to memory.\n",
    "            Before answering a question, I ABSOLUTELY MUST access my memory by doing the folowing:\n",
    "                * I write `{self.MORE}`: QUERY, where QUERY is what I feel missing from my knowledge.\n",
    "            I never use the same QUERY twice.\n",
    "            Never use the same query twice, always come up with something new.\n",
    "            Remeber that we can do it more than once to find an answer.\n",
    "            \"\"\".strip() + '\\n'\n",
    "        )\n",
    "        self.reset()\n",
    "        \n",
    "    def _ask_chat(self, lst: list) -> str:\n",
    "        print('---')\n",
    "        for x in lst:\n",
    "            print(f'[{type(x).__name__}]')\n",
    "            print(x.content)\n",
    "        print('---')\n",
    "        print('')\n",
    "        \n",
    "        return self._chat0(lst)\n",
    "        \n",
    "    def __call__(self, text) -> str:\n",
    "        return self.say(text)\n",
    "    \n",
    "    def _info_requests_message(self, info_requests: list) -> AIMessage:\n",
    "        if info_requests:\n",
    "            return AIMessage(content='There are the things I ask previously:\\n{}'.format('\\n'.join(\n",
    "                f'  * {self.MORE}: {m}' for m in info_requests\n",
    "            )))\n",
    "        else:\n",
    "            return None\n",
    "    \n",
    "    def _facts_message(self, facts: list) -> AIMessage:\n",
    "        if facts:\n",
    "            return AIMessage(content='This is what I remembered:\\n{}'.format('\\n'.join(\n",
    "                f'  * {f}' for f in facts\n",
    "            )))\n",
    "        else:\n",
    "            return None\n",
    "    \n",
    "    def _trim(self, messages):\n",
    "        available = 3000\n",
    "        for m in messages:\n",
    "            if len(m.content) <= available:\n",
    "                yield m\n",
    "                available -= len(m.content)\n",
    "            else:\n",
    "                m_copy = m.copy()\n",
    "                m_copy.content = m.content[:available]\n",
    "                yield m_copy\n",
    "                available = 0\n",
    "                \n",
    "            if not available:\n",
    "                break\n",
    "    \n",
    "    def reset(self) -> None:\n",
    "        self._history = []\n",
    "    \n",
    "    def say(self, text, facts: list = None, info_requests: list = None, depth=0) -> str:\n",
    "        if facts is None:\n",
    "            facts = []\n",
    "        if info_requests is None:\n",
    "            info_requests = []\n",
    "        \n",
    "        to_send = [\n",
    "            AIMessage(content=self._system_prompt),\n",
    "            HumanMessage(content=text),\n",
    "        ]\n",
    "        for m in (self._info_requests_message(info_requests), self._facts_message(facts)):\n",
    "            if m is not None:\n",
    "                to_send.append(m)\n",
    "        to_send = list(self._trim(to_send))\n",
    "        response = self._ask_chat(to_send)\n",
    "        response_text = response.content\n",
    "        \n",
    "        if response_text.startswith(self.MORE) and depth < 2:\n",
    "            request = response_text[len(self.MORE) + 2:]\n",
    "            print(f'[*] New REQUEST! {request}')\n",
    "            if request not in info_requests:\n",
    "                info_requests.append(request)\n",
    "                new_facts = False\n",
    "                docs = self._embeddings.knn(request, k=2)\n",
    "                print(f'DOCS {len(docs)}')\n",
    "                for text in docs:\n",
    "                    if text not in facts:\n",
    "                        facts.append(text)\n",
    "                        new_facts = True\n",
    "                        display_fact(text)\n",
    "                        #print(f'[*] New fact! {text}')\n",
    "                if new_facts:\n",
    "                    return self.say(text, depth=depth+1, facts=facts, info_requests=info_requests)\n",
    "                else:\n",
    "                    print('[*] No new facts')\n",
    "            else:\n",
    "                print('[*] Duplicate request')\n",
    "\n",
    "        return response\n"
   ]
  },
  {
   "cell_type": "code",
   "execution_count": 6,
   "id": "2f2e6edc",
   "metadata": {},
   "outputs": [],
   "source": [
    "rds = Redis(host='localhost', port=6379, db=0)\n",
    "storage = RedisEmbeddingStorage('exmaplegpt', redis=rds)\n",
    "e = Embeddings(config=CONFIG, version=VERSION, storage=storage)\n",
    "chat = Chat(config=CONFIG, embeddings=e)"
   ]
  },
  {
   "cell_type": "code",
   "execution_count": 7,
   "id": "1c139e9e",
   "metadata": {},
   "outputs": [
    {
     "name": "stdout",
     "output_type": "stream",
     "text": [
      "---\n",
      "[AIMessage]\n",
      "I am a helpful assistant with access to memory.\n",
      "            Before answering a question, I ABSOLUTELY MUST access my memory by doing the folowing:\n",
      "                * I write `MORE_INFO_NEEDED`: QUERY, where QUERY is what I feel missing from my knowledge.\n",
      "            I never use the same QUERY twice.\n",
      "            Never use the same query twice, always come up with something new.\n",
      "            Remeber that we can do it more than once to find an answer.\n",
      "\n",
      "[HumanMessage]\n",
      "Чем махнул Каратаев в повести Тургенева \"Бежин луг\"?\n",
      "---\n",
      "\n",
      "[*] New REQUEST! Какое действие совершил Каратаев в повести \"Бежин луг\"?\n",
      "DOCS 2\n"
     ]
    },
    {
     "data": {
      "text/html": [
       "<div style=\"background-color: #00ff00;\">FACT! <pre>Part of document called Бежин луг, из цикла \"Записки охотника\". Starts from char 12600 out of 39742.\n",
       "---\n",
       "\n",
       " и печальным взором. Все лицо его было невелико, худо, в веснушках, книзу заострено, как у белки; губы едва было можно различить; но странное впечатление производили его большие, черные, жидким блеском блестевшие глаза: они, казалось, хотели что-то высказать, для чего на языке, -- на его языке по крайней мере, -- не было слов. Он был маленького роста, сложения тщедушного и одет довольно бедно. Последнего, Ваню, я сперва было и не заметил: он лежал на земле, смирнехонько прикорнув под угловатую рогожу, и только изредка выставлял из-под нее свою русую кудрявую гол\n",
       "   Итак, я лежал под кустиком в стороне и поглядывал на мальчиков. Небольшой котельчик висел над одним из огней; в нем варились \"картошки\", Павлуша наблюдал за ним и, стоя на коленях, тыкал щепкой в закипавшую воду. Федя лежал, опершись на локоть и раскинув полы своего армяка. Ильюша сидел рядом с Костей и все так же напряженно щурился. Костя понурил немного голову и глядел куда-то вдаль. Ваня не шевелился под своей рогожей. Я </pre></div>"
      ],
      "text/plain": [
       "<IPython.core.display.HTML object>"
      ]
     },
     "metadata": {},
     "output_type": "display_data"
    },
    {
     "data": {
      "text/html": [
       "<div style=\"background-color: #00ff00;\">FACT! <pre>Part of document called Бежин луг, из цикла \"Записки охотника\". Starts from char 38700 out of 39742.\n",
       "---\n",
       "\n",
       "мое ответило ему легкой, веселой дрожью. Я проворно встал и подошел к мальчикам. Они все спали как убитые вокруг тлеющего костра; один Павел приподнялся до половины и пристально поглядел на меня.\n",
       "   Я кивнул ему головой и пошел восвояси вдоль задымившейся реки. Не успел я отойти двух верст, как уже полились кругом меня по широкому мокрому лугу, и спереди, по зазеленевшимся холмам, от лесу до лесу, и сзади по длинной пыльной дороге, по сверкающим, обагренным кустам, и по реке, стыдливо синевшей из-под редеющего тумана, -- полились сперва алые, потом красные, золотые потоки молодого, горячего света... Все зашевелилось, проснулось, запело, зашумело, заговорило. Всюду лучистыми алмазами зарделись крупные капли росы; мне навстречу, чистые и ясные, словно тоже обмытые утренней прохладой, принеслись звуки колокола, и вдруг мимо меня, погоняемый знакомыми мальчиками, промчался отдохнувший табун...\n",
       "   Я, к сожалению, должен прибавить, что в том же году Павла не стало. Он не утонул: он убился, упав с лошади. Жаль, славный был парень!\n",
       "\n",
       "\n",
       "</pre></div>"
      ],
      "text/plain": [
       "<IPython.core.display.HTML object>"
      ]
     },
     "metadata": {},
     "output_type": "display_data"
    },
    {
     "name": "stdout",
     "output_type": "stream",
     "text": [
      "---\n",
      "[AIMessage]\n",
      "I am a helpful assistant with access to memory.\n",
      "            Before answering a question, I ABSOLUTELY MUST access my memory by doing the folowing:\n",
      "                * I write `MORE_INFO_NEEDED`: QUERY, where QUERY is what I feel missing from my knowledge.\n",
      "            I never use the same QUERY twice.\n",
      "            Never use the same query twice, always come up with something new.\n",
      "            Remeber that we can do it more than once to find an answer.\n",
      "\n",
      "[HumanMessage]\n",
      "Part of document called Бежин луг, из цикла \"Записки охотника\". Starts from char 38700 out of 39742.\n",
      "---\n",
      "\n",
      "мое ответило ему легкой, веселой дрожью. Я проворно встал и подошел к мальчикам. Они все спали как убитые вокруг тлеющего костра; один Павел приподнялся до половины и пристально поглядел на меня.\n",
      "   Я кивнул ему головой и пошел восвояси вдоль задымившейся реки. Не успел я отойти двух верст, как уже полились кругом меня по широкому мокрому лугу, и спереди, по зазеленевшимся холмам, от лесу до лесу, и сзади по длинной пыльной дороге, по сверкающим, обагренным кустам, и по реке, стыдливо синевшей из-под редеющего тумана, -- полились сперва алые, потом красные, золотые потоки молодого, горячего света... Все зашевелилось, проснулось, запело, зашумело, заговорило. Всюду лучистыми алмазами зарделись крупные капли росы; мне навстречу, чистые и ясные, словно тоже обмытые утренней прохладой, принеслись звуки колокола, и вдруг мимо меня, погоняемый знакомыми мальчиками, промчался отдохнувший табун...\n",
      "   Я, к сожалению, должен прибавить, что в том же году Павла не стало. Он не утонул: он убился, упав с лошади. Жаль, славный был парень!\n",
      "\n",
      "\n",
      "\n",
      "[AIMessage]\n",
      "There are the things I ask previously:\n",
      "  * MORE_INFO_NEEDED: Какое действие совершил Каратаев в повести \"Бежин луг\"?\n",
      "[AIMessage]\n",
      "This is what I remembered:\n",
      "  * Part of document called Бежин луг, из цикла \"Записки охотника\". Starts from char 12600 out of 39742.\n",
      "---\n",
      "\n",
      " и печальным взором. Все лицо его было невелико, худо, в веснушках, книзу заострено, как у белки; губы едва было можно различить; но странное впечатление производили его большие, черные, жидким блеском блестевшие глаза: они, казалось, хотели что-то высказать, для чего на языке, -- на его языке по крайней мере, -- не было слов. Он был маленького роста, сложения тщедушного и одет довольно бедно. Последнего, Ваню, я сперва было и не заметил: он лежал на земле, смирнехонько прикорнув под угловатую рогожу, и только изредка выставлял из-под нее свою русую кудрявую гол\n",
      "   Итак, я лежал под кустиком в стороне и поглядывал на мальчиков. Небольшой котельчик висел над одним из огней; в нем варились \"картошки\", Павлуша наблюдал за ним и, стоя на коленях, тыкал щепкой в закипавшую воду. Федя лежал, опершись на локоть и раскинув полы своего армяка. Ильюша сидел рядом с Костей и все так же напряженно щурился. Костя понурил немного голову и глядел куда-то вдаль. Ваня не шевелился под своей рогожей. Я \n",
      "  * Part of document called Бежин луг, из цикла \"Записки охотника\". Starts from char 38700 out of 39742.\n",
      "---\n",
      "\n",
      "мое ответило ему легкой, веселой дрож\n",
      "---\n",
      "\n"
     ]
    },
    {
     "data": {
      "text/plain": [
       "AIMessage(content='I apologize, but I couldn\\'t find any information about the specific action that Karataev performs in the story \"Бежин луг\" from the cycle \"Записки охотника\". It seems that the information I have access to does not include that specific detail. Is there anything else I can help you with?', additional_kwargs={}, example=False)"
      ]
     },
     "execution_count": 7,
     "metadata": {},
     "output_type": "execute_result"
    }
   ],
   "source": [
    "chat.reset(); chat('Чем махнул Каратаев в повести Тургенева \"Бежин луг\"?')"
   ]
  },
  {
   "cell_type": "code",
   "execution_count": null,
   "id": "75ff9938",
   "metadata": {},
   "outputs": [],
   "source": [
    "class Indexer:\n",
    "    PATTERN = \"Part of document called {title}. Starts from char {offset} out of {length}.\\n---\\n\\n{chunk}\"\n",
    "    \n",
    "    def __init__(self, *, embeddings: Embeddings, title: str, text: str):\n",
    "        self._e = embeddings\n",
    "        self._title = title\n",
    "        self._text = text\n",
    "        \n",
    "        self._window = 10000\n",
    "        self._overlap = 1000\n",
    "        \n",
    "        assert self._window > self._overlap\n",
    "        \n",
    "    def _chunks(self) -> Generator[Tuple[int, str], None, None]:\n",
    "        offset = 0\n",
    "        length = len(self._text)\n",
    "        while True:\n",
    "            if length - offset < 1.5 * self._window:\n",
    "                yield (offset, self._text[offset:])\n",
    "                return\n",
    "            else:\n",
    "                yield (offset, self._text[offset : offset + self._window])\n",
    "                offset += self._window - self._overlap\n",
    "        \n",
    "    def index(self) -> None:\n",
    "        for offset, chunk in self._chunks():\n",
    "            text_to_index = self.PATTERN.format(title=self._title, offset=offset, length=len(self._text), chunk=chunk)\n",
    "            self._e.add(text_to_index)"
   ]
  },
  {
   "cell_type": "code",
   "execution_count": null,
   "id": "1844a7ca",
   "metadata": {},
   "outputs": [],
   "source": [
    "e = Embeddings('examplegpt', config=CONFIG)\n",
    "with open('lug.txt') as f:\n",
    "    text = f.read()\n",
    "indexer = Indexer(embeddings=e, title='Бежин луг, из цикла \"Записки охотника\"', text=text)\n",
    "indexer.index()"
   ]
  },
  {
   "cell_type": "code",
   "execution_count": null,
   "id": "0cc966c9",
   "metadata": {},
   "outputs": [],
   "source": []
  }
 ],
 "metadata": {
  "kernelspec": {
   "display_name": "Python 3 (ipykernel)",
   "language": "python",
   "name": "python3"
  },
  "language_info": {
   "codemirror_mode": {
    "name": "ipython",
    "version": 3
   },
   "file_extension": ".py",
   "mimetype": "text/x-python",
   "name": "python",
   "nbconvert_exporter": "python",
   "pygments_lexer": "ipython3",
   "version": "3.8.10"
  }
 },
 "nbformat": 4,
 "nbformat_minor": 5
}
